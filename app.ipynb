{
  "cells": [
    {
      "cell_type": "code",
      "execution_count": null,
      "metadata": {
        "id": "s-7hTOZLKK6c"
      },
      "outputs": [],
      "source": [
        "!pip install streamlit --quiet\n"
      ]
    },
    {
      "cell_type": "code",
      "execution_count": null,
      "metadata": {
        "colab": {
          "base_uri": "https://localhost:8080/"
        },
        "id": "7LCKgqTXPWda",
        "outputId": "ffa3a716-a768-47fc-e91d-34f8ae8aa92e"
      },
      "outputs": [
        {
          "output_type": "stream",
          "name": "stdout",
          "text": [
            "Overwriting app.py\n"
          ]
        }
      ],
      "source": [
        "%%writefile app.py\n",
        "import streamlit as st\n",
        "import pickle\n",
        "\n",
        "st.title(\"laptop price prediction\")\n",
        "st.text(\"this app is created by using ML model developed in one of our previous sessions\")"
      ]
    },
    {
      "cell_type": "code",
      "execution_count": null,
      "metadata": {
        "colab": {
          "base_uri": "https://localhost:8080/"
        },
        "id": "3-D4nPpGTqS_",
        "outputId": "412ff95b-f5a2-4d36-ea1b-a3b5011232f1"
      },
      "outputs": [
        {
          "output_type": "stream",
          "name": "stdout",
          "text": [
            "Overwriting app.py\n"
          ]
        }
      ],
      "source": [
        "%%writefile app.py\n",
        "import streamlit as st\n",
        "import pickle\n",
        "\n",
        "st.title(\"Laptop Price Prediction\")\n",
        "st.text(\"This app is created by using ML model developed in one of our previous sessions\")\n",
        "ml_model=pickle.load(open('pipe.pkl','rb'))\n",
        "df=pickle.load(open('df.pkl','rb'))\n",
        "\n",
        "company=st.selectbox(\"Manufacturer of the laptop\",df['Company'].unique(),index=4)\n",
        "typename=st.selectbox(\"Type of the laptop\",df['TypeName'].unique())\n",
        "cpu=st.selectbox(\"Processor on the laptop\",df['Cpu'].unique())\n",
        "ram=st.radio('RAM(in GB)',[4,8,12,16,24,32,64],index=1,horizontal=True)\n",
        "gpu=st.selectbox(\"Graphics Card on the laptop\",df['Gpu'].unique())\n",
        "os=st.selectbox(\"Operating system on the laptop\",df['OpSys'].unique())\n",
        "weight=st.slider(\"Weight of the laptop(in kg)\",min_value=0.8,max_value=4.5,value=2.0,step=0.1)"
      ]
    },
    {
      "cell_type": "code",
      "execution_count": null,
      "metadata": {
        "colab": {
          "base_uri": "https://localhost:8080/"
        },
        "id": "hUdYIp84T7o7",
        "outputId": "5e696720-1457-4e04-aee9-5610c145ce8e"
      },
      "outputs": [
        {
          "output_type": "stream",
          "name": "stdout",
          "text": [
            "\u001b[1G\u001b[0K⠙\u001b[1G\u001b[0K⠹\n",
            "Collecting usage statistics. To deactivate, set browser.gatherUsageStats to false.\n",
            "\u001b[0m\n",
            "\u001b[1G\u001b[0K⠸\u001b[1G\u001b[0K⠼\u001b[1G\u001b[0K⠴\u001b[1G\u001b[0K⠦\u001b[1G\u001b[0K⠧\u001b[1G\u001b[0K⠇\u001b[1G\u001b[0K⠏\u001b[1G\u001b[0K⠋\u001b[1G\u001b[0K⠙\u001b[1G\u001b[0K⠹\u001b[1G\u001b[0K⠸\u001b[1G\u001b[0K⠼\u001b[1G\u001b[0K⠴\u001b[1G\u001b[0K⠦\u001b[1G\u001b[0Kyour url is: https://hungry-sides-march.loca.lt\n",
            "\u001b[0m\n",
            "\u001b[34m\u001b[1m  You can now view your Streamlit app in your browser.\u001b[0m\n",
            "\u001b[0m\n",
            "\u001b[34m  Local URL: \u001b[0m\u001b[1mhttp://localhost:8501\u001b[0m\n",
            "\u001b[34m  Network URL: \u001b[0m\u001b[1mhttp://172.28.0.12:8501\u001b[0m\n",
            "\u001b[34m  External URL: \u001b[0m\u001b[1mhttp://35.229.29.47:8501\u001b[0m\n",
            "\u001b[0m\n"
          ]
        }
      ],
      "source": [
        "!streamlit run app.py & npx localtunnel --port 8501\n"
      ]
    }
  ],
  "metadata": {
    "colab": {
      "provenance": []
    },
    "kernelspec": {
      "display_name": "Python 3",
      "name": "python3"
    },
    "language_info": {
      "name": "python"
    }
  },
  "nbformat": 4,
  "nbformat_minor": 0
}